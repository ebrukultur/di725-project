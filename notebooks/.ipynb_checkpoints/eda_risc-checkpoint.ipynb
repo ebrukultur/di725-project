{
 "cells": [
  {
   "cell_type": "markdown",
   "id": "bcf59d8f-c1a9-409e-a1b2-227afc00d065",
   "metadata": {},
   "source": [
    "## Exploratory Data Analysis (EDA) for RISC Image–Caption Dataset"
   ]
  },
  {
   "cell_type": "markdown",
   "id": "2b9964a1-9b60-4f55-9582-f807e5da32d0",
   "metadata": {},
   "source": [
    "**Imports & Load Data**"
   ]
  },
  {
   "cell_type": "code",
   "execution_count": 1,
   "id": "e84f2073-c0bf-42d9-9719-2316b6f7508c",
   "metadata": {},
   "outputs": [],
   "source": [
    "import pandas as pd\n",
    "import matplotlib.pyplot as plt\n",
    "from collections import Counter\n",
    "import os\n",
    "import wandb"
   ]
  },
  {
   "cell_type": "code",
   "execution_count": 2,
   "id": "3e184f9f-03f3-4465-8826-69ad045a7808",
   "metadata": {},
   "outputs": [
    {
     "name": "stderr",
     "output_type": "stream",
     "text": [
      "wandb: Using wandb-core as the SDK backend.  Please refer to https://wandb.me/wandb-core for more information.\n",
      "wandb: Currently logged in as: trial to https://api.wandb.ai. Use `wandb login --relogin` to force relogin\n"
     ]
    },
    {
     "data": {
      "text/html": [
       "Tracking run with wandb version 0.19.9"
      ],
      "text/plain": [
       "<IPython.core.display.HTML object>"
      ]
     },
     "metadata": {},
     "output_type": "display_data"
    },
    {
     "data": {
      "text/html": [
       "Run data is saved locally in <code>C:\\Users\\Administrator\\Desktop\\di725-term-project\\di725-project\\notebooks\\wandb\\run-20250420_201731-mybg6dpb</code>"
      ],
      "text/plain": [
       "<IPython.core.display.HTML object>"
      ]
     },
     "metadata": {},
     "output_type": "display_data"
    },
    {
     "data": {
      "text/html": [
       "Syncing run <strong><a href='https://wandb.ai/trial/di725-project/runs/mybg6dpb' target=\"_blank\">phase1-eda</a></strong> to <a href='https://wandb.ai/trial/di725-project' target=\"_blank\">Weights & Biases</a> (<a href='https://wandb.me/developer-guide' target=\"_blank\">docs</a>)<br>"
      ],
      "text/plain": [
       "<IPython.core.display.HTML object>"
      ]
     },
     "metadata": {},
     "output_type": "display_data"
    },
    {
     "data": {
      "text/html": [
       " View project at <a href='https://wandb.ai/trial/di725-project' target=\"_blank\">https://wandb.ai/trial/di725-project</a>"
      ],
      "text/plain": [
       "<IPython.core.display.HTML object>"
      ]
     },
     "metadata": {},
     "output_type": "display_data"
    },
    {
     "data": {
      "text/html": [
       " View run at <a href='https://wandb.ai/trial/di725-project/runs/mybg6dpb' target=\"_blank\">https://wandb.ai/trial/di725-project/runs/mybg6dpb</a>"
      ],
      "text/plain": [
       "<IPython.core.display.HTML object>"
      ]
     },
     "metadata": {},
     "output_type": "display_data"
    }
   ],
   "source": [
    "#Wandb login and initialization\n",
    "wandb.login()\n",
    "# Initialize a run\n",
    "run = wandb.init(\n",
    "    project=\"di725-project\",  \n",
    "    entity=\"trial\",        \n",
    "    name=\"phase1-eda\",                 \n",
    "    tags=[\"phase1\", \"EDA\"]\n",
    ")\n",
    "# Logging\n",
    "wandb.config.update({\n",
    "    \"task\": \"EDA\",\n",
    "    \"script\": \"eda_risc.ipynb\",\n",
    "    \"dataset\": \"RISC\",\n",
    "    \"date\": \"2025-04-20\"\n",
    "})"
   ]
  },
  {
   "cell_type": "code",
   "execution_count": 3,
   "id": "15efebb7-2446-46b8-9cbe-d43889da7cb2",
   "metadata": {},
   "outputs": [],
   "source": [
    "captions_csv = \"D:/data/RISCM/captions.csv\"\n",
    "images_dir   = \"D:/data/RISCM/resized\"\n",
    "# Load captions DataFrame\n",
    "df_raw = pd.read_csv(captions_csv)"
   ]
  },
  {
   "cell_type": "code",
   "execution_count": 4,
   "id": "b4b962d5-67b5-426e-b090-a88e5778f08a",
   "metadata": {},
   "outputs": [
    {
     "data": {
      "text/html": [
       "<div>\n",
       "<style scoped>\n",
       "    .dataframe tbody tr th:only-of-type {\n",
       "        vertical-align: middle;\n",
       "    }\n",
       "\n",
       "    .dataframe tbody tr th {\n",
       "        vertical-align: top;\n",
       "    }\n",
       "\n",
       "    .dataframe thead th {\n",
       "        text-align: right;\n",
       "    }\n",
       "</style>\n",
       "<table border=\"1\" class=\"dataframe\">\n",
       "  <thead>\n",
       "    <tr style=\"text-align: right;\">\n",
       "      <th></th>\n",
       "      <th>source</th>\n",
       "      <th>split</th>\n",
       "      <th>image</th>\n",
       "      <th>caption_1</th>\n",
       "      <th>caption_2</th>\n",
       "      <th>caption_3</th>\n",
       "      <th>caption_4</th>\n",
       "      <th>caption_5</th>\n",
       "    </tr>\n",
       "  </thead>\n",
       "  <tbody>\n",
       "    <tr>\n",
       "      <th>0</th>\n",
       "      <td>NWPU</td>\n",
       "      <td>test</td>\n",
       "      <td>NWPU_31430.jpg</td>\n",
       "      <td>A gray plane on the runway and the lawn beside .</td>\n",
       "      <td>A grey plane is on the runway by the lawn .</td>\n",
       "      <td>There is an airplane on the runway with a larg...</td>\n",
       "      <td>A plane is parked on the runway next to the gr...</td>\n",
       "      <td>There is a plane on the runway beside the grass .</td>\n",
       "    </tr>\n",
       "    <tr>\n",
       "      <th>1</th>\n",
       "      <td>NWPU</td>\n",
       "      <td>test</td>\n",
       "      <td>NWPU_31431.jpg</td>\n",
       "      <td>Three small planes parked in a line on the air...</td>\n",
       "      <td>There are four aircraft on the open ground, Th...</td>\n",
       "      <td>There are many planes of different sizes in a ...</td>\n",
       "      <td>Four planes are parked on the runway .</td>\n",
       "      <td>Four planes of different sizes were on the mar...</td>\n",
       "    </tr>\n",
       "    <tr>\n",
       "      <th>2</th>\n",
       "      <td>NWPU</td>\n",
       "      <td>test</td>\n",
       "      <td>NWPU_31432.jpg</td>\n",
       "      <td>A plane parked in a line on the airport with s...</td>\n",
       "      <td>A white plane was parked on the instruction li...</td>\n",
       "      <td>An airplane parked in an open area with many c...</td>\n",
       "      <td>A plane is parked on the open space .</td>\n",
       "      <td>There is 1 plane on the ground marked .</td>\n",
       "    </tr>\n",
       "    <tr>\n",
       "      <th>3</th>\n",
       "      <td>NWPU</td>\n",
       "      <td>test</td>\n",
       "      <td>NWPU_31433.jpg</td>\n",
       "      <td>A small plane and a big plane parked next to b...</td>\n",
       "      <td>A white plane and a gray plane parked at the b...</td>\n",
       "      <td>Two planes of different sizes are neatly parke...</td>\n",
       "      <td>A large plane and a small plane are parked nea...</td>\n",
       "      <td>Two planes are on the marked ground .</td>\n",
       "    </tr>\n",
       "    <tr>\n",
       "      <th>4</th>\n",
       "      <td>NWPU</td>\n",
       "      <td>test</td>\n",
       "      <td>NWPU_31434.jpg</td>\n",
       "      <td>Two planes parked next to boarding bridges .</td>\n",
       "      <td>Two aircraft were parked at the departure gates .</td>\n",
       "      <td>Two planes of different sizes are neatly parke...</td>\n",
       "      <td>Two planes are parked next to the terminal .</td>\n",
       "      <td>Two planes are on the marked ground .</td>\n",
       "    </tr>\n",
       "  </tbody>\n",
       "</table>\n",
       "</div>"
      ],
      "text/plain": [
       "  source split           image  \\\n",
       "0   NWPU  test  NWPU_31430.jpg   \n",
       "1   NWPU  test  NWPU_31431.jpg   \n",
       "2   NWPU  test  NWPU_31432.jpg   \n",
       "3   NWPU  test  NWPU_31433.jpg   \n",
       "4   NWPU  test  NWPU_31434.jpg   \n",
       "\n",
       "                                           caption_1  \\\n",
       "0   A gray plane on the runway and the lawn beside .   \n",
       "1  Three small planes parked in a line on the air...   \n",
       "2  A plane parked in a line on the airport with s...   \n",
       "3  A small plane and a big plane parked next to b...   \n",
       "4       Two planes parked next to boarding bridges .   \n",
       "\n",
       "                                           caption_2  \\\n",
       "0        A grey plane is on the runway by the lawn .   \n",
       "1  There are four aircraft on the open ground, Th...   \n",
       "2  A white plane was parked on the instruction li...   \n",
       "3  A white plane and a gray plane parked at the b...   \n",
       "4  Two aircraft were parked at the departure gates .   \n",
       "\n",
       "                                           caption_3  \\\n",
       "0  There is an airplane on the runway with a larg...   \n",
       "1  There are many planes of different sizes in a ...   \n",
       "2  An airplane parked in an open area with many c...   \n",
       "3  Two planes of different sizes are neatly parke...   \n",
       "4  Two planes of different sizes are neatly parke...   \n",
       "\n",
       "                                           caption_4  \\\n",
       "0  A plane is parked on the runway next to the gr...   \n",
       "1             Four planes are parked on the runway .   \n",
       "2              A plane is parked on the open space .   \n",
       "3  A large plane and a small plane are parked nea...   \n",
       "4       Two planes are parked next to the terminal .   \n",
       "\n",
       "                                           caption_5  \n",
       "0  There is a plane on the runway beside the grass .  \n",
       "1  Four planes of different sizes were on the mar...  \n",
       "2            There is 1 plane on the ground marked .  \n",
       "3              Two planes are on the marked ground .  \n",
       "4              Two planes are on the marked ground .  "
      ]
     },
     "execution_count": 4,
     "metadata": {},
     "output_type": "execute_result"
    }
   ],
   "source": [
    "df_raw.head()"
   ]
  },
  {
   "cell_type": "markdown",
   "id": "13f12d7e-2c1a-454c-b3e1-3dcd591bc0f8",
   "metadata": {},
   "source": [
    "**Combine caption_1…caption_5 into a single column**"
   ]
  },
  {
   "cell_type": "code",
   "execution_count": 5,
   "id": "e8593436-738b-4d03-b80c-87de826401ee",
   "metadata": {},
   "outputs": [],
   "source": [
    "# Identify caption columns\n",
    "cap_cols = [f\"caption_{i}\" for i in range(1,6)]\n",
    "\n",
    "# To long form\n",
    "df = df_raw.melt(\n",
    "    id_vars=[\"image\", \"split\"],\n",
    "    value_vars=cap_cols,\n",
    "    var_name=\"caption_id\",\n",
    "    value_name=\"caption\"\n",
    ").dropna(subset=[\"caption\"])  # drop any missing\n",
    "\n",
    "# Drop empty strings\n",
    "df = df[df[\"caption\"].str.strip() != \"\"]"
   ]
  },
  {
   "cell_type": "code",
   "execution_count": 6,
   "id": "ef3966e6-c520-4437-a85c-66ff454bf4f1",
   "metadata": {},
   "outputs": [
    {
     "data": {
      "text/html": [
       "<div>\n",
       "<style scoped>\n",
       "    .dataframe tbody tr th:only-of-type {\n",
       "        vertical-align: middle;\n",
       "    }\n",
       "\n",
       "    .dataframe tbody tr th {\n",
       "        vertical-align: top;\n",
       "    }\n",
       "\n",
       "    .dataframe thead th {\n",
       "        text-align: right;\n",
       "    }\n",
       "</style>\n",
       "<table border=\"1\" class=\"dataframe\">\n",
       "  <thead>\n",
       "    <tr style=\"text-align: right;\">\n",
       "      <th></th>\n",
       "      <th>image</th>\n",
       "      <th>split</th>\n",
       "      <th>caption_id</th>\n",
       "      <th>caption</th>\n",
       "    </tr>\n",
       "  </thead>\n",
       "  <tbody>\n",
       "    <tr>\n",
       "      <th>0</th>\n",
       "      <td>NWPU_31430.jpg</td>\n",
       "      <td>test</td>\n",
       "      <td>caption_1</td>\n",
       "      <td>A gray plane on the runway and the lawn beside .</td>\n",
       "    </tr>\n",
       "    <tr>\n",
       "      <th>1</th>\n",
       "      <td>NWPU_31431.jpg</td>\n",
       "      <td>test</td>\n",
       "      <td>caption_1</td>\n",
       "      <td>Three small planes parked in a line on the air...</td>\n",
       "    </tr>\n",
       "    <tr>\n",
       "      <th>2</th>\n",
       "      <td>NWPU_31432.jpg</td>\n",
       "      <td>test</td>\n",
       "      <td>caption_1</td>\n",
       "      <td>A plane parked in a line on the airport with s...</td>\n",
       "    </tr>\n",
       "    <tr>\n",
       "      <th>3</th>\n",
       "      <td>NWPU_31433.jpg</td>\n",
       "      <td>test</td>\n",
       "      <td>caption_1</td>\n",
       "      <td>A small plane and a big plane parked next to b...</td>\n",
       "    </tr>\n",
       "    <tr>\n",
       "      <th>4</th>\n",
       "      <td>NWPU_31434.jpg</td>\n",
       "      <td>test</td>\n",
       "      <td>caption_1</td>\n",
       "      <td>Two planes parked next to boarding bridges .</td>\n",
       "    </tr>\n",
       "  </tbody>\n",
       "</table>\n",
       "</div>"
      ],
      "text/plain": [
       "            image split caption_id  \\\n",
       "0  NWPU_31430.jpg  test  caption_1   \n",
       "1  NWPU_31431.jpg  test  caption_1   \n",
       "2  NWPU_31432.jpg  test  caption_1   \n",
       "3  NWPU_31433.jpg  test  caption_1   \n",
       "4  NWPU_31434.jpg  test  caption_1   \n",
       "\n",
       "                                             caption  \n",
       "0   A gray plane on the runway and the lawn beside .  \n",
       "1  Three small planes parked in a line on the air...  \n",
       "2  A plane parked in a line on the airport with s...  \n",
       "3  A small plane and a big plane parked next to b...  \n",
       "4       Two planes parked next to boarding bridges .  "
      ]
     },
     "execution_count": 6,
     "metadata": {},
     "output_type": "execute_result"
    }
   ],
   "source": [
    "df.head()"
   ]
  },
  {
   "cell_type": "markdown",
   "id": "aebfd738-594b-4e05-aa2c-18adbaa6321a",
   "metadata": {},
   "source": [
    "**Split Counts** (unique images & total captions per split)"
   ]
  },
  {
   "cell_type": "code",
   "execution_count": 7,
   "id": "2a733ebe-f73b-443f-bc03-e2785ecfe1c4",
   "metadata": {},
   "outputs": [
    {
     "name": "stdout",
     "output_type": "stream",
     "text": [
      "Images per split:\n",
      " split\n",
      "train    35614\n",
      "test      4454\n",
      "val       4453\n",
      "Name: count, dtype: int64 \n",
      "\n",
      "Captions per split:\n",
      " split\n",
      "train    178070\n",
      "test      22270\n",
      "val       22265\n",
      "Name: count, dtype: int64\n"
     ]
    }
   ],
   "source": [
    "# Unique images per split\n",
    "img_splits = df[['image','split']].drop_duplicates().split.value_counts()\n",
    "print(\"Images per split:\\n\", img_splits, \"\\n\")\n",
    "\n",
    "# Captions per split\n",
    "cap_splits = df.split.value_counts()\n",
    "\n",
    "# Log to W&B\n",
    "wandb.log({\n",
    "    \"num_images_train\":    img_splits.get('train', 0),\n",
    "    \"num_images_val\":      img_splits.get('val', 0),\n",
    "    \"num_images_test\":     img_splits.get('test', 0),\n",
    "    \"num_captions_train\":  cap_splits.get('train', 0),\n",
    "    \"num_captions_val\":    cap_splits.get('val', 0),\n",
    "    \"num_captions_test\":   cap_splits.get('test', 0)\n",
    "})\n",
    "\n",
    "print(\"Captions per split:\\n\", cap_splits)"
   ]
  },
  {
   "cell_type": "markdown",
   "id": "0bda9165-d2ba-4748-adc3-29fb59a6b0b8",
   "metadata": {},
   "source": [
    "**Caption Length Distribution**"
   ]
  },
  {
   "cell_type": "code",
   "execution_count": 8,
   "id": "ec016f6b-de1e-4a82-a768-6603cf339bbc",
   "metadata": {},
   "outputs": [
    {
     "name": "stdout",
     "output_type": "stream",
     "text": [
      "count    222605.000000\n",
      "mean         12.085200\n",
      "std           4.220994\n",
      "min           5.000000\n",
      "25%           9.000000\n",
      "50%          11.000000\n",
      "75%          14.000000\n",
      "max          51.000000\n",
      "Name: cap_len, dtype: float64\n"
     ]
    },
    {
     "ename": "NameError",
     "evalue": "name 'fig' is not defined",
     "output_type": "error",
     "traceback": [
      "\u001b[1;31m---------------------------------------------------------------------------\u001b[0m",
      "\u001b[1;31mNameError\u001b[0m                                 Traceback (most recent call last)",
      "Cell \u001b[1;32mIn[8], line 18\u001b[0m\n\u001b[0;32m     16\u001b[0m plt\u001b[38;5;241m.\u001b[39mylabel(\u001b[38;5;124m\"\u001b[39m\u001b[38;5;124mFrequency\u001b[39m\u001b[38;5;124m\"\u001b[39m)\n\u001b[0;32m     17\u001b[0m plt\u001b[38;5;241m.\u001b[39mtight_layout()\n\u001b[1;32m---> 18\u001b[0m wandb\u001b[38;5;241m.\u001b[39mlog({\u001b[38;5;124m\"\u001b[39m\u001b[38;5;124mcaption_length_histogram\u001b[39m\u001b[38;5;124m\"\u001b[39m: wandb\u001b[38;5;241m.\u001b[39mImage(\u001b[43mfig\u001b[49m)})\n\u001b[0;32m     19\u001b[0m plt\u001b[38;5;241m.\u001b[39msavefig(\u001b[38;5;124m'\u001b[39m\u001b[38;5;124mcaption_length_histogram.png\u001b[39m\u001b[38;5;124m'\u001b[39m, dpi\u001b[38;5;241m=\u001b[39m\u001b[38;5;241m300\u001b[39m)\n\u001b[0;32m     20\u001b[0m plt\u001b[38;5;241m.\u001b[39mshow()\n",
      "\u001b[1;31mNameError\u001b[0m: name 'fig' is not defined"
     ]
    },
    {
     "data": {
      "image/png": "[encoded data removed]",
      "text/plain": [
       "<Figure size 600x400 with 1 Axes>"
      ]
     },
     "metadata": {},
     "output_type": "display_data"
    }
   ],
   "source": [
    "df['cap_len'] = df['caption'].str.split().apply(len)\n",
    "print(df['cap_len'].describe())\n",
    "mean_len = df['cap_len'].mean()\n",
    "std_len  = df['cap_len'].std()\n",
    "\n",
    "# Log stats\n",
    "wandb.log({\n",
    "    \"caption_length_mean\": mean_len,\n",
    "    \"caption_length_std\":  std_len\n",
    "})\n",
    "\n",
    "# Create the figure and axes\n",
    "fig, ax = plt.subplots(figsize=(6,4))\n",
    "ax.hist(df['cap_len'], bins=30)\n",
    "ax.set_title(\"Caption Length Distribution\")\n",
    "ax.set_xlabel(\"Words per caption\")\n",
    "ax.set_ylabel(\"Frequency\")\n",
    "plt.tight_layout()\n",
    "\n",
    "# Log the figure to W&B\n",
    "wandb.log({\"caption_length_histogram\": wandb.Image(fig)})\n",
    "\n",
    "# Display inline and then close\n",
    "plt.show()\n",
    "plt.close(fig)"
   ]
  },
  {
   "cell_type": "markdown",
   "id": "d0e8a63b-ff07-4aa5-bb59-52a99393c01a",
   "metadata": {},
   "source": [
    "It can be seen that the most frequent used captions include 10 words. Maybe more specific images require more detailed captions but they occur rarely. Therefore, this is an expected result."
   ]
  },
  {
   "cell_type": "markdown",
   "id": "3c06d429-e5ed-4a87-9e48-7ded9b56d0cf",
   "metadata": {},
   "source": [
    "**Vocabulary Analysis**"
   ]
  },
  {
   "cell_type": "code",
   "execution_count": null,
   "id": "03a2be27-53a3-48de-b79b-3f23a67e735d",
   "metadata": {},
   "outputs": [],
   "source": [
    "tokens = (\n",
    "    df['caption']\n",
    "    .str.lower()\n",
    "    .str.replace(r'[^\\w\\s]', '', regex=True)\n",
    "    .str.split()\n",
    "    .explode()\n",
    ")\n",
    "top_tokens = tokens.value_counts().head(20)\n",
    "print(top_tokens)\n",
    "\n",
    "    \n",
    "# Plot the top 20 tokens\n",
    "plt.figure(figsize=(10, 6))\n",
    "top_tokens.plot(kind='bar')\n",
    "plt.title(\"Top 20 Most Frequent Tokens in RISC Captions\")\n",
    "plt.xlabel(\"Token\")\n",
    "plt.ylabel(\"Frequency\")\n",
    "plt.tight_layout()"
   ]
  },
  {
   "cell_type": "markdown",
   "id": "7bbcc2f5-013e-4f8d-9f11-a9f99ba8bf5c",
   "metadata": {},
   "source": [
    "The frequent captions are common and in accordance with the language used in captions. For example, in English language, \"the\", \"a\", \"are\", \"and\" are really common conjunctions."
   ]
  },
  {
   "cell_type": "markdown",
   "id": "e965d50e-f2c4-4be9-890a-cfec90d2c6cc",
   "metadata": {},
   "source": [
    "**Missing / Malformed Captions Check**"
   ]
  },
  {
   "cell_type": "markdown",
   "id": "e65f59fc-bc23-4c00-b270-d0b78657a04a",
   "metadata": {},
   "source": [
    "**Sample Image–Caption Pairs**"
   ]
  },
  {
   "cell_type": "code",
   "execution_count": null,
   "id": "50726b1f-c45b-4805-bbe8-3f9cd5bde0e6",
   "metadata": {},
   "outputs": [],
   "source": [
    "sample = df.sample(5, random_state=0).reset_index(drop=True)\n",
    "for _, row in sample.iterrows():\n",
    "    img_path = os.path.join(images_dir, row['image'])\n",
    "    img = plt.imread(img_path)\n",
    "    plt.figure(figsize=(4,4))\n",
    "    plt.imshow(img)\n",
    "    plt.axis('off')\n",
    "    plt.title(f\"{row['caption_id']} ({row['split']}):\\n\\\"{row['caption']}\\\"\")\n",
    "    plt.show()"
   ]
  },
  {
   "cell_type": "markdown",
   "id": "54d6d630-9687-4a59-a217-c718a9a1f51e",
   "metadata": {},
   "source": [
    "We can see that the images and the captions are compatible with each other in train-test-valid datasets"
   ]
  }
 ],
 "metadata": {
  "kernelspec": {
   "display_name": "Python 3 (ipykernel)",
   "language": "python",
   "name": "python3"
  },
  "language_info": {
   "codemirror_mode": {
    "name": "ipython",
    "version": 3
   },
   "file_extension": ".py",
   "mimetype": "text/x-python",
   "name": "python",
   "nbconvert_exporter": "python",
   "pygments_lexer": "ipython3",
   "version": "3.10.17"
  }
 },
 "nbformat": 4,
 "nbformat_minor": 5
}
